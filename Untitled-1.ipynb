{
 "cells": [
  {
   "cell_type": "code",
   "execution_count": 1,
   "metadata": {},
   "outputs": [
    {
     "data": {
      "text/plain": [
       "array([1, 2, 3, 4, 1])"
      ]
     },
     "execution_count": 1,
     "metadata": {},
     "output_type": "execute_result"
    }
   ],
   "source": [
    "import numpy as np\n",
    "a = np.array([1,2,3,4])\n",
    "a = np.append(a, [1])\n",
    "a"
   ]
  },
  {
   "cell_type": "code",
   "execution_count": 6,
   "metadata": {},
   "outputs": [
    {
     "name": "stdout",
     "output_type": "stream",
     "text": [
      "0\n",
      "1\n",
      "2\n",
      "3\n",
      "2\n"
     ]
    }
   ],
   "source": [
    "def funky(*args):\n",
    "    for arg in args:\n",
    "        print(arg)\n",
    "\n",
    "hah = [1,2,3]\n",
    "funky(0,*hah,2)"
   ]
  },
  {
   "cell_type": "code",
   "execution_count": 2,
   "metadata": {},
   "outputs": [
    {
     "data": {
      "text/plain": [
       "2.0"
      ]
     },
     "execution_count": 2,
     "metadata": {},
     "output_type": "execute_result"
    }
   ],
   "source": [
    "import numpy as np\n",
    "\n",
    "np.average([1,2,3])"
   ]
  },
  {
   "cell_type": "code",
   "execution_count": 2,
   "metadata": {},
   "outputs": [
    {
     "ename": "ModuleNotFoundError",
     "evalue": "No module named 'dataClasses'",
     "output_type": "error",
     "traceback": [
      "\u001b[1;31m---------------------------------------------------------------------------\u001b[0m",
      "\u001b[1;31mModuleNotFoundError\u001b[0m                       Traceback (most recent call last)",
      "\u001b[1;32mc:\\Users\\B74\\Documents\\GitHub\\Pulssearch\\Untitled-1.ipynb Cell 2\u001b[0m in \u001b[0;36m<cell line: 1>\u001b[1;34m()\u001b[0m\n\u001b[1;32m----> <a href='vscode-notebook-cell:/c%3A/Users/B74/Documents/GitHub/Pulssearch/Untitled-1.ipynb#W4sZmlsZQ%3D%3D?line=0'>1</a>\u001b[0m \u001b[39mimport\u001b[39;00m \u001b[39mdataClasses\u001b[39;00m \u001b[39mas\u001b[39;00m \u001b[39mdc\u001b[39;00m\n\u001b[0;32m      <a href='vscode-notebook-cell:/c%3A/Users/B74/Documents/GitHub/Pulssearch/Untitled-1.ipynb#W4sZmlsZQ%3D%3D?line=2'>3</a>\u001b[0m dc\u001b[39m.\u001b[39mconvert(\u001b[39m2\u001b[39m, convert_from \u001b[39m=\u001b[39m \u001b[39m'\u001b[39m\u001b[39mTHz\u001b[39m\u001b[39m'\u001b[39m)\n",
      "\u001b[1;31mModuleNotFoundError\u001b[0m: No module named 'dataClasses'"
     ]
    }
   ],
   "source": [
    "import dataClasses as dc\n",
    "\n",
    "dc.convert(2, convert_from = 'THz')"
   ]
  },
  {
   "cell_type": "code",
   "execution_count": 1,
   "metadata": {},
   "outputs": [
    {
     "name": "stdout",
     "output_type": "stream",
     "text": [
      "1\n",
      "<class 'int'>\n",
      "2\n",
      "<class 'int'>\n"
     ]
    }
   ],
   "source": [
    "this = {1:'ok', 2:'111'}\n",
    "\n",
    "for key in this:\n",
    "    print(key)\n",
    "    print(type(key))"
   ]
  },
  {
   "cell_type": "code",
   "execution_count": 2,
   "metadata": {},
   "outputs": [
    {
     "name": "stdout",
     "output_type": "stream",
     "text": [
      "indeed\n",
      "alright\n"
     ]
    }
   ],
   "source": [
    "class thing():\n",
    "    def __init__(self, something):\n",
    "        self.myThing = something\n",
    "\n",
    "    def printThing(self):\n",
    "        print(self.myThing)\n",
    "\n",
    "\n",
    "thisOne = thing('indeed')\n",
    "\n",
    "thisOne.printThing()\n",
    "\n",
    "thisOne = thing('alright')\n",
    "\n",
    "thisOne.printThing()\n"
   ]
  },
  {
   "cell_type": "code",
   "execution_count": 7,
   "metadata": {},
   "outputs": [
    {
     "name": "stdout",
     "output_type": "stream",
     "text": [
      "11\n",
      "44\n",
      "33\n",
      "[[2], [3]]\n",
      "2\n",
      "[[3]]\n"
     ]
    }
   ],
   "source": [
    "here = [[11,44,33],[2],[3]]\n",
    "\n",
    "for i in here.pop(0):\n",
    "    print(i)\n",
    "print(here)\n",
    "for i in here.pop(0):\n",
    "    print(i)\n",
    "print(here)"
   ]
  },
  {
   "cell_type": "code",
   "execution_count": 9,
   "metadata": {},
   "outputs": [
    {
     "data": {
      "text/plain": [
       "array([ 0.,  5., 10., 15., 20., 25., 30., 35., 40., 45.])"
      ]
     },
     "execution_count": 9,
     "metadata": {},
     "output_type": "execute_result"
    }
   ],
   "source": [
    "import numpy as np\n",
    "\n",
    "np.linspace(0,45,10)"
   ]
  },
  {
   "cell_type": "code",
   "execution_count": 8,
   "metadata": {},
   "outputs": [],
   "source": [
    "import pyvisa\n",
    "import time\n",
    "import numpy as np\n",
    "\n",
    "class CONEX():\n",
    "    def __init__(self, port, baud_rate = 921600, timeout = 2000): #baud rate is unused, I just kept it for consistency with the usb class, but it can be removed\n",
    "        self.rm = pyvisa.ResourceManager()\n",
    "        print(self.rm.list_resources())\n",
    "        self.port = port\n",
    "        self.portAddress = 'ASRL' + str(self.port) + '::INSTR'\n",
    "        self.timeout = timeout\n",
    "        self._configure_instrument(self.portAddress)\n",
    "\n",
    "    def _configure_instrument(self, instrument_port):\n",
    "        self.instrument = self.rm.open_resource(instrument_port)\n",
    "        self.instrument.read_termination = '\\r'\n",
    "        #self.instrument.write_termination = '\\r'\n",
    "        self.instrument.timeout = self.timeout\n",
    "        self.instrument.baud_rate = 921600\n",
    "        print('def')\n",
    "\n",
    "    def write_command(self, ascii_cmd):\n",
    "        try:\n",
    "            self.instrument.write(ascii_cmd)\n",
    "        except:\n",
    "            self.instrument.clear()\n",
    "            self.instrument.close()\n",
    "            self._configure_instrument(self.portAddress)\n",
    "            time.sleep(.5)\n",
    "            self.instrument.write(ascii_cmd)\n",
    "\n",
    "    def query_command(self, ascii_cmd):\n",
    "        try:\n",
    "            self.instrument.clear()\n",
    "            return self.instrument.query(ascii_cmd).split(ascii_cmd)[-1]\n",
    "        except:\n",
    "            self.instrument.clear()\n",
    "            self.instrument.close()\n",
    "            self._configure_instrument(self.portAddress)\n",
    "            time.sleep(1)\n",
    "            return self.instrument.query(ascii_cmd)\n",
    "        \n",
    "    def home_search(self):\n",
    "        self.write_command('1OR')\n",
    "\n",
    "    def get_absolute_position(self):\n",
    "        return float(self.query_command('1TP'))\n",
    "    \n",
    "    def move_absolute(self, position): \n",
    "        self.write_command('1PA{0:.2f}'.format(position))\n",
    "\n",
    "    def moving(self):\n",
    "        if str(self.query_command('1TS')) == '000033':\n",
    "            return False\n",
    "        else:\n",
    "            return True"
   ]
  },
  {
   "cell_type": "code",
   "execution_count": 9,
   "metadata": {},
   "outputs": [
    {
     "name": "stdout",
     "output_type": "stream",
     "text": [
      "('ASRL1::INSTR', 'ASRL3::INSTR', 'ASRL4::INSTR', 'ASRL5::INSTR', 'GPIB0::1::INSTR', 'GPIB0::7::INSTR', 'GPIB0::8::INSTR')\n",
      "def\n"
     ]
    }
   ],
   "source": [
    "rotater = CONEX(port = 3)"
   ]
  },
  {
   "cell_type": "code",
   "execution_count": 11,
   "metadata": {},
   "outputs": [
    {
     "name": "stdout",
     "output_type": "stream",
     "text": [
      "True\n",
      "112.947246\n",
      "True\n",
      "144.237296\n",
      "False\n"
     ]
    }
   ],
   "source": [
    "pos = 145\n",
    "\n",
    "rotater.move_absolute(pos)\n",
    "print(rotater.moving())\n",
    "print(rotater.get_absolute_position())\n",
    "print(rotater.moving())\n",
    "time.sleep(1)\n",
    "print(rotater.get_absolute_position())\n",
    "print(str(rotater.moving()))"
   ]
  },
  {
   "cell_type": "code",
   "execution_count": 1,
   "metadata": {},
   "outputs": [
    {
     "data": {
      "text/plain": [
       "'23.43'"
      ]
     },
     "execution_count": 1,
     "metadata": {},
     "output_type": "execute_result"
    }
   ],
   "source": [
    "format(23.4334, '.2f')"
   ]
  },
  {
   "cell_type": "code",
   "execution_count": 9,
   "metadata": {},
   "outputs": [
    {
     "name": "stdout",
     "output_type": "stream",
     "text": [
      "aoke\n",
      "aoke\n"
     ]
    }
   ],
   "source": [
    "def func(a):\n",
    "    print(a)\n",
    "\n",
    "bingo = ['22', 'aoke']\n",
    "\n",
    "listo = []\n",
    "for i in bingo:\n",
    "    me = lambda:func(i)\n",
    "    listo.append(me)\n",
    "\n",
    "for funky in listo:\n",
    "    funky()"
   ]
  },
  {
   "cell_type": "code",
   "execution_count": 13,
   "metadata": {},
   "outputs": [
    {
     "data": {
      "text/plain": [
       "'1 2 3'"
      ]
     },
     "execution_count": 13,
     "metadata": {},
     "output_type": "execute_result"
    }
   ],
   "source": [
    "oy = [1,2,3]\n",
    "oy2 = [str(x) for x in oy]\n",
    "' '.join([str(x) for x in oy])"
   ]
  },
  {
   "cell_type": "code",
   "execution_count": null,
   "metadata": {},
   "outputs": [],
   "source": []
  }
 ],
 "metadata": {
  "kernelspec": {
   "display_name": "Python 3.9.12 ('base')",
   "language": "python",
   "name": "python3"
  },
  "language_info": {
   "codemirror_mode": {
    "name": "ipython",
    "version": 3
   },
   "file_extension": ".py",
   "mimetype": "text/x-python",
   "name": "python",
   "nbconvert_exporter": "python",
   "pygments_lexer": "ipython3",
   "version": "3.9.12"
  },
  "orig_nbformat": 4,
  "vscode": {
   "interpreter": {
    "hash": "62ab746fb322c921565599399bd4dfac3d16cc473e77af6ba89b940f2ea3ea58"
   }
  }
 },
 "nbformat": 4,
 "nbformat_minor": 2
}
