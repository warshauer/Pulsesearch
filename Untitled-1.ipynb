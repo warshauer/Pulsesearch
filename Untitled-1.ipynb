{
 "cells": [
  {
   "cell_type": "code",
   "execution_count": 2,
   "metadata": {},
   "outputs": [],
   "source": [
    "for i in range(1,0):\n",
    "    print(i)"
   ]
  },
  {
   "cell_type": "code",
   "execution_count": 2,
   "metadata": {},
   "outputs": [
    {
     "name": "stdout",
     "output_type": "stream",
     "text": [
      "('ASRL1::INSTR', 'ASRL3::INSTR', 'GPIB0::1::INSTR', 'GPIB0::7::INSTR', 'GPIB0::8::INSTR')\n",
      "aye\n",
      "154.995132\n",
      "154.995132\n",
      "waited 1\n",
      "144.999978\n",
      "144.999978\n",
      "waited 1\n",
      "149.997555\n",
      "149.997555\n",
      "waited 1\n",
      "154.995132\n"
     ]
    },
    {
     "data": {
      "text/plain": [
       "154.995132"
      ]
     },
     "execution_count": 2,
     "metadata": {},
     "output_type": "execute_result"
    }
   ],
   "source": [
    "from instrumentControl import CONEX\n",
    "import time\n",
    "\n",
    "conny = CONEX(3)\n",
    "\n",
    "print(conny.get_absolute_position())\n",
    "conny.move_absolute(145)\n",
    "while conny.moving():\n",
    "    time.sleep(1)\n",
    "    print('waited 1')\n",
    "print(conny.get_absolute_position())\n",
    "conny.move_step(5)\n",
    "while conny.moving():\n",
    "    time.sleep(1)\n",
    "    print('waited 1')\n",
    "print(conny.get_absolute_position())\n",
    "conny.move_step(5)\n",
    "while conny.moving():\n",
    "    time.sleep(1)\n",
    "    print('waited 1')\n",
    "conny.get_absolute_position()"
   ]
  },
  {
   "cell_type": "code",
   "execution_count": 1,
   "metadata": {},
   "outputs": [
    {
     "data": {
      "text/plain": [
       "array([1, 2, 3, 4, 1])"
      ]
     },
     "execution_count": 1,
     "metadata": {},
     "output_type": "execute_result"
    }
   ],
   "source": [
    "import numpy as np\n",
    "a = np.array([1,2,3,4])\n",
    "a = np.append(a, [1])\n",
    "a"
   ]
  },
  {
   "cell_type": "code",
   "execution_count": 6,
   "metadata": {},
   "outputs": [
    {
     "name": "stdout",
     "output_type": "stream",
     "text": [
      "0\n",
      "1\n",
      "2\n",
      "3\n",
      "2\n"
     ]
    }
   ],
   "source": [
    "def funky(*args):\n",
    "    for arg in args:\n",
    "        print(arg)\n",
    "\n",
    "hah = [1,2,3]\n",
    "funky(0,*hah,2)"
   ]
  },
  {
   "cell_type": "code",
   "execution_count": 2,
   "metadata": {},
   "outputs": [
    {
     "data": {
      "text/plain": [
       "2.0"
      ]
     },
     "execution_count": 2,
     "metadata": {},
     "output_type": "execute_result"
    }
   ],
   "source": [
    "import numpy as np\n",
    "\n",
    "np.average([1,2,3])"
   ]
  },
  {
   "cell_type": "code",
   "execution_count": 2,
   "metadata": {},
   "outputs": [
    {
     "ename": "ModuleNotFoundError",
     "evalue": "No module named 'dataClasses'",
     "output_type": "error",
     "traceback": [
      "\u001b[1;31m---------------------------------------------------------------------------\u001b[0m",
      "\u001b[1;31mModuleNotFoundError\u001b[0m                       Traceback (most recent call last)",
      "\u001b[1;32mc:\\Users\\B74\\Documents\\GitHub\\Pulssearch\\Untitled-1.ipynb Cell 2\u001b[0m in \u001b[0;36m<cell line: 1>\u001b[1;34m()\u001b[0m\n\u001b[1;32m----> <a href='vscode-notebook-cell:/c%3A/Users/B74/Documents/GitHub/Pulssearch/Untitled-1.ipynb#W4sZmlsZQ%3D%3D?line=0'>1</a>\u001b[0m \u001b[39mimport\u001b[39;00m \u001b[39mdataClasses\u001b[39;00m \u001b[39mas\u001b[39;00m \u001b[39mdc\u001b[39;00m\n\u001b[0;32m      <a href='vscode-notebook-cell:/c%3A/Users/B74/Documents/GitHub/Pulssearch/Untitled-1.ipynb#W4sZmlsZQ%3D%3D?line=2'>3</a>\u001b[0m dc\u001b[39m.\u001b[39mconvert(\u001b[39m2\u001b[39m, convert_from \u001b[39m=\u001b[39m \u001b[39m'\u001b[39m\u001b[39mTHz\u001b[39m\u001b[39m'\u001b[39m)\n",
      "\u001b[1;31mModuleNotFoundError\u001b[0m: No module named 'dataClasses'"
     ]
    }
   ],
   "source": [
    "import dataClasses as dc\n",
    "\n",
    "dc.convert(2, convert_from = 'THz')"
   ]
  },
  {
   "cell_type": "code",
   "execution_count": 1,
   "metadata": {},
   "outputs": [
    {
     "name": "stdout",
     "output_type": "stream",
     "text": [
      "1\n",
      "<class 'int'>\n",
      "2\n",
      "<class 'int'>\n"
     ]
    }
   ],
   "source": [
    "this = {1:'ok', 2:'111'}\n",
    "\n",
    "for key in this:\n",
    "    print(key)\n",
    "    print(type(key))"
   ]
  },
  {
   "cell_type": "code",
   "execution_count": 2,
   "metadata": {},
   "outputs": [
    {
     "name": "stdout",
     "output_type": "stream",
     "text": [
      "indeed\n",
      "alright\n"
     ]
    }
   ],
   "source": [
    "class thing():\n",
    "    def __init__(self, something):\n",
    "        self.myThing = something\n",
    "\n",
    "    def printThing(self):\n",
    "        print(self.myThing)\n",
    "\n",
    "\n",
    "thisOne = thing('indeed')\n",
    "\n",
    "thisOne.printThing()\n",
    "\n",
    "thisOne = thing('alright')\n",
    "\n",
    "thisOne.printThing()\n"
   ]
  },
  {
   "cell_type": "code",
   "execution_count": 7,
   "metadata": {},
   "outputs": [
    {
     "name": "stdout",
     "output_type": "stream",
     "text": [
      "11\n",
      "44\n",
      "33\n",
      "[[2], [3]]\n",
      "2\n",
      "[[3]]\n"
     ]
    }
   ],
   "source": [
    "here = [[11,44,33],[2],[3]]\n",
    "\n",
    "for i in here.pop(0):\n",
    "    print(i)\n",
    "print(here)\n",
    "for i in here.pop(0):\n",
    "    print(i)\n",
    "print(here)"
   ]
  },
  {
   "cell_type": "code",
   "execution_count": 9,
   "metadata": {},
   "outputs": [
    {
     "data": {
      "text/plain": [
       "array([ 0.,  5., 10., 15., 20., 25., 30., 35., 40., 45.])"
      ]
     },
     "execution_count": 9,
     "metadata": {},
     "output_type": "execute_result"
    }
   ],
   "source": [
    "import numpy as np\n",
    "\n",
    "np.linspace(0,45,10)"
   ]
  },
  {
   "cell_type": "code",
   "execution_count": 8,
   "metadata": {},
   "outputs": [],
   "source": [
    "import pyvisa\n",
    "import time\n",
    "import numpy as np\n",
    "\n",
    "class CONEX():\n",
    "    def __init__(self, port, baud_rate = 921600, timeout = 2000): #baud rate is unused, I just kept it for consistency with the usb class, but it can be removed\n",
    "        self.rm = pyvisa.ResourceManager()\n",
    "        print(self.rm.list_resources())\n",
    "        self.port = port\n",
    "        self.portAddress = 'ASRL' + str(self.port) + '::INSTR'\n",
    "        self.timeout = timeout\n",
    "        self._configure_instrument(self.portAddress)\n",
    "\n",
    "    def _configure_instrument(self, instrument_port):\n",
    "        self.instrument = self.rm.open_resource(instrument_port)\n",
    "        self.instrument.read_termination = '\\r'\n",
    "        #self.instrument.write_termination = '\\r'\n",
    "        self.instrument.timeout = self.timeout\n",
    "        self.instrument.baud_rate = 921600\n",
    "        print('def')\n",
    "\n",
    "    def write_command(self, ascii_cmd):\n",
    "        try:\n",
    "            self.instrument.write(ascii_cmd)\n",
    "        except:\n",
    "            self.instrument.clear()\n",
    "            self.instrument.close()\n",
    "            self._configure_instrument(self.portAddress)\n",
    "            time.sleep(.5)\n",
    "            self.instrument.write(ascii_cmd)\n",
    "\n",
    "    def query_command(self, ascii_cmd):\n",
    "        try:\n",
    "            self.instrument.clear()\n",
    "            return self.instrument.query(ascii_cmd).split(ascii_cmd)[-1]\n",
    "        except:\n",
    "            self.instrument.clear()\n",
    "            self.instrument.close()\n",
    "            self._configure_instrument(self.portAddress)\n",
    "            time.sleep(1)\n",
    "            return self.instrument.query(ascii_cmd)\n",
    "        \n",
    "    def home_search(self):\n",
    "        self.write_command('1OR')\n",
    "\n",
    "    def get_absolute_position(self):\n",
    "        return float(self.query_command('1TP'))\n",
    "    \n",
    "    def move_absolute(self, position): \n",
    "        self.write_command('1PA{0:.2f}'.format(position))\n",
    "\n",
    "    def moving(self):\n",
    "        if str(self.query_command('1TS')) == '000033':\n",
    "            return False\n",
    "        else:\n",
    "            return True"
   ]
  },
  {
   "cell_type": "code",
   "execution_count": 9,
   "metadata": {},
   "outputs": [
    {
     "name": "stdout",
     "output_type": "stream",
     "text": [
      "('ASRL1::INSTR', 'ASRL3::INSTR', 'ASRL4::INSTR', 'ASRL5::INSTR', 'GPIB0::1::INSTR', 'GPIB0::7::INSTR', 'GPIB0::8::INSTR')\n",
      "def\n"
     ]
    }
   ],
   "source": [
    "rotater = CONEX(port = 3)"
   ]
  },
  {
   "cell_type": "code",
   "execution_count": 11,
   "metadata": {},
   "outputs": [
    {
     "name": "stdout",
     "output_type": "stream",
     "text": [
      "True\n",
      "112.947246\n",
      "True\n",
      "144.237296\n",
      "False\n"
     ]
    }
   ],
   "source": [
    "pos = 145\n",
    "\n",
    "rotater.move_absolute(pos)\n",
    "print(rotater.moving())\n",
    "print(rotater.get_absolute_position())\n",
    "print(rotater.moving())\n",
    "time.sleep(1)\n",
    "print(rotater.get_absolute_position())\n",
    "print(str(rotater.moving()))"
   ]
  },
  {
   "cell_type": "code",
   "execution_count": 1,
   "metadata": {},
   "outputs": [
    {
     "data": {
      "text/plain": [
       "'23.43'"
      ]
     },
     "execution_count": 1,
     "metadata": {},
     "output_type": "execute_result"
    }
   ],
   "source": [
    "format(23.4334, '.2f')"
   ]
  },
  {
   "cell_type": "code",
   "execution_count": 9,
   "metadata": {},
   "outputs": [
    {
     "name": "stdout",
     "output_type": "stream",
     "text": [
      "aoke\n",
      "aoke\n"
     ]
    }
   ],
   "source": [
    "def func(a):\n",
    "    print(a)\n",
    "\n",
    "bingo = ['22', 'aoke']\n",
    "\n",
    "listo = []\n",
    "for i in bingo:\n",
    "    me = lambda:func(i)\n",
    "    listo.append(me)\n",
    "\n",
    "for funky in listo:\n",
    "    funky()"
   ]
  },
  {
   "cell_type": "code",
   "execution_count": 13,
   "metadata": {},
   "outputs": [
    {
     "data": {
      "text/plain": [
       "'1 2 3'"
      ]
     },
     "execution_count": 13,
     "metadata": {},
     "output_type": "execute_result"
    }
   ],
   "source": [
    "oy = [1,2,3]\n",
    "oy2 = [str(x) for x in oy]\n",
    "' '.join([str(x) for x in oy])"
   ]
  },
  {
   "cell_type": "code",
   "execution_count": 2,
   "metadata": {},
   "outputs": [
    {
     "name": "stdout",
     "output_type": "stream",
     "text": [
      "-2.0_3, -1.5_3, -1.0_3, -0.8_3, -0.6_3, -0.4_3, -0.2_3, -0.0_3, 0.2_3, 0.4_3, 0.6_3, 0.8_3, 1.0_3\n",
      "135.0, 145.0, 155.0, 165.0, 175.0, 185.0, 195.0, 205.0\n"
     ]
    }
   ],
   "source": [
    "import numpy as np\n",
    "\n",
    "delays = delays = np.concatenate((np.arange(-2, -1, .5), np.arange(-1.0, 1.2, .2)))\n",
    "listo = []\n",
    "for d in delays:\n",
    "    listo.append(format(d, '.1f')+'_3')\n",
    "print(', '.join(listo))\n",
    "\n",
    "delays = np.arange(135, 210, 10)\n",
    "\n",
    "listo = []\n",
    "for d in delays:\n",
    "    listo.append(format(d, '.1f'))\n",
    "print(', '.join(listo))"
   ]
  },
  {
   "cell_type": "code",
   "execution_count": 4,
   "metadata": {},
   "outputs": [
    {
     "data": {
      "text/plain": [
       "array([ 0.  ,  0.05,  0.1 ,  0.15,  0.2 ,  0.25,  0.3 ,  0.35,  0.4 ,\n",
       "        0.45,  0.5 ,  0.55,  0.6 ,  0.65,  0.7 ,  0.75,  0.8 ,  0.85,\n",
       "        0.9 ,  0.95,  1.  ,  1.05,  1.1 ,  1.15,  1.2 ,  1.25,  1.3 ,\n",
       "        1.35,  1.4 ,  1.45,  1.5 ,  1.55,  1.6 ,  1.65,  1.7 ,  1.75,\n",
       "        1.8 ,  1.85,  1.9 ,  1.95,  2.  ,  2.05,  2.1 ,  2.15,  2.2 ,\n",
       "        2.25,  2.3 ,  2.35,  2.4 ,  2.45,  2.5 ,  2.55,  2.6 ,  2.65,\n",
       "        2.7 ,  2.75,  2.8 ,  2.85,  2.9 ,  2.95,  3.  ,  3.05,  3.1 ,\n",
       "        3.15,  3.2 ,  3.25,  3.3 ,  3.35,  3.4 ,  3.45,  3.5 ,  3.55,\n",
       "        3.6 ,  3.65,  3.7 ,  3.75,  3.8 ,  3.85,  3.9 ,  3.95,  4.  ,\n",
       "        4.05,  4.1 ,  4.15,  4.2 ,  4.25,  4.3 ,  4.35,  4.4 ,  4.45,\n",
       "        4.5 ,  4.55,  4.6 ,  4.65,  4.7 ,  4.75,  4.8 ,  4.85,  4.9 ,\n",
       "        4.95,  5.  ,  5.05,  5.1 ,  5.15,  5.2 ,  5.25,  5.3 ,  5.35,\n",
       "        5.4 ,  5.45,  5.5 ,  5.55,  5.6 ,  5.65,  5.7 ,  5.75,  5.8 ,\n",
       "        5.85,  5.9 ,  5.95,  6.  ,  6.05,  6.1 ,  6.15,  6.2 ,  6.25,\n",
       "        6.3 ,  6.35,  6.4 ,  6.45,  6.5 ,  6.55,  6.6 ,  6.65,  6.7 ,\n",
       "        6.75,  6.8 ,  6.85,  6.9 ,  6.95,  7.  ,  7.05,  7.1 ,  7.15,\n",
       "        7.2 ,  7.25,  7.3 ,  7.35,  7.4 ,  7.45,  7.5 ,  7.55,  7.6 ,\n",
       "        7.65,  7.7 ,  7.75,  7.8 ,  7.85,  7.9 ,  7.95,  8.  ,  8.05,\n",
       "        8.1 ,  8.15,  8.2 ,  8.25,  8.3 ,  8.35,  8.4 ,  8.45,  8.5 ,\n",
       "        8.55,  8.6 ,  8.65,  8.7 ,  8.75,  8.8 ,  8.85,  8.9 ,  8.95,\n",
       "        9.  ,  9.05,  9.1 ,  9.15,  9.2 ,  9.25,  9.3 ,  9.35,  9.4 ,\n",
       "        9.45,  9.5 ,  9.55,  9.6 ,  9.65,  9.7 ,  9.75,  9.8 ,  9.85,\n",
       "        9.9 ,  9.95, 10.  , 10.05, 10.1 , 10.15, 10.2 , 10.25, 10.3 ,\n",
       "       10.35, 10.4 , 10.45, 10.5 , 10.55, 10.6 , 10.65, 10.7 , 10.75,\n",
       "       10.8 , 10.85, 10.9 , 10.95, 11.  , 11.05, 11.1 , 11.15, 11.2 ,\n",
       "       11.25, 11.3 , 11.35, 11.4 , 11.45, 11.5 , 11.55, 11.6 , 11.65,\n",
       "       11.7 , 11.75, 11.8 , 11.85, 11.9 , 11.95, 12.  , 12.05, 12.1 ,\n",
       "       12.15, 12.2 , 12.25, 12.3 , 12.35, 12.4 , 12.45, 12.5 , 12.55,\n",
       "       12.6 , 12.65, 12.7 , 12.75, 12.8 , 12.85, 12.9 , 12.95, 13.  ,\n",
       "       13.05, 13.1 , 13.15, 13.2 , 13.25, 13.3 , 13.35, 13.4 , 13.45,\n",
       "       13.5 , 13.55, 13.6 , 13.65, 13.7 , 13.75, 13.8 , 13.85, 13.9 ,\n",
       "       13.95, 14.  , 14.05, 14.1 , 14.15, 14.2 , 14.25, 14.3 , 14.35,\n",
       "       14.4 , 14.45, 14.5 , 14.55, 14.6 , 14.65, 14.7 , 14.75, 14.8 ,\n",
       "       14.85, 14.9 , 14.95, 15.  ])"
      ]
     },
     "execution_count": 4,
     "metadata": {},
     "output_type": "execute_result"
    }
   ],
   "source": [
    "np.linspace(0,15,301)"
   ]
  },
  {
   "cell_type": "code",
   "execution_count": null,
   "metadata": {},
   "outputs": [],
   "source": []
  }
 ],
 "metadata": {
  "kernelspec": {
   "display_name": "Python 3.9.12 ('base')",
   "language": "python",
   "name": "python3"
  },
  "language_info": {
   "codemirror_mode": {
    "name": "ipython",
    "version": 3
   },
   "file_extension": ".py",
   "mimetype": "text/x-python",
   "name": "python",
   "nbconvert_exporter": "python",
   "pygments_lexer": "ipython3",
   "version": "3.9.12"
  },
  "orig_nbformat": 4,
  "vscode": {
   "interpreter": {
    "hash": "62ab746fb322c921565599399bd4dfac3d16cc473e77af6ba89b940f2ea3ea58"
   }
  }
 },
 "nbformat": 4,
 "nbformat_minor": 2
}
